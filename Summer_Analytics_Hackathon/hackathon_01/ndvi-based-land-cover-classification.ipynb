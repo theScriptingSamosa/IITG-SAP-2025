{
 "cells": [
  {
   "cell_type": "code",
   "execution_count": 1,
   "id": "5022bd9a",
   "metadata": {
    "_cell_guid": "b1076dfc-b9ad-4769-8c92-a6c4dae69d19",
    "_uuid": "8f2839f25d086af736a60e9eeb907d3b93b6e0e5",
    "collapsed": true,
    "execution": {
     "iopub.execute_input": "2025-06-11T19:06:12.531216Z",
     "iopub.status.busy": "2025-06-11T19:06:12.530926Z",
     "iopub.status.idle": "2025-06-11T19:06:14.186821Z",
     "shell.execute_reply": "2025-06-11T19:06:14.186034Z"
    },
    "jupyter": {
     "outputs_hidden": true,
     "source_hidden": true
    },
    "papermill": {
     "duration": 1.662287,
     "end_time": "2025-06-11T19:06:14.188264",
     "exception": false,
     "start_time": "2025-06-11T19:06:12.525977",
     "status": "completed"
    },
    "tags": []
   },
   "outputs": [
    {
     "name": "stdout",
     "output_type": "stream",
     "text": [
      "/kaggle/input/ndvi-landcover/hacktest.csv\n",
      "/kaggle/input/ndvi-landcover/hacktrain.csv\n",
      "/kaggle/input/summer-analytics-mid-hackathon/hacktest.csv\n",
      "/kaggle/input/summer-analytics-mid-hackathon/hacktrain.csv\n"
     ]
    }
   ],
   "source": [
    "# This Python 3 environment comes with many helpful analytics libraries installed\n",
    "# It is defined by the kaggle/python Docker image: https://github.com/kaggle/docker-python\n",
    "# For example, here's several helpful packages to load\n",
    "\n",
    "import numpy as np # linear algebra\n",
    "import pandas as pd # data processing, CSV file I/O (e.g. pd.read_csv)\n",
    "\n",
    "# Input data files are available in the read-only \"../input/\" directory\n",
    "# For example, running this (by clicking run or pressing Shift+Enter) will list all files under the input directory\n",
    "\n",
    "import os\n",
    "for dirname, _, filenames in os.walk('/kaggle/input'):\n",
    "    for filename in filenames:\n",
    "        print(os.path.join(dirname, filename))\n",
    "\n",
    "# You can write up to 20GB to the current directory (/kaggle/working/) that gets preserved as output when you create a version using \"Save & Run All\" \n",
    "# You can also write temporary files to /kaggle/temp/, but they won't be saved outside of the current session"
   ]
  },
  {
   "cell_type": "markdown",
   "id": "17214c3c",
   "metadata": {
    "papermill": {
     "duration": 0.002502,
     "end_time": "2025-06-11T19:06:14.193978",
     "exception": false,
     "start_time": "2025-06-11T19:06:14.191476",
     "status": "completed"
    },
    "tags": []
   },
   "source": [
    "# **NDVI-Based Land Cover Classification**\n",
    "\n",
    "## **1. Objective**\n",
    "this notebook tackles a **multiclass classification** problem using **NDVI(Normalized Difference Vegetation Index)** time series data, using **Logistic Regression only**.\n",
    "\n",
    "we'll apply:\n",
    "* Imputation for missing values\n",
    "* Denoising of time series\n",
    "* feature engineering\n",
    "* Multinomial Logistic Regression\n",
    "* Performance evaluation\n",
    "* Final prediction submission\n",
    "    \n"
   ]
  },
  {
   "cell_type": "markdown",
   "id": "cc8feaca",
   "metadata": {
    "papermill": {
     "duration": 0.002454,
     "end_time": "2025-06-11T19:06:14.199120",
     "exception": false,
     "start_time": "2025-06-11T19:06:14.196666",
     "status": "completed"
    },
    "tags": []
   },
   "source": [
    "## **2. Dataset Prediction**\n",
    "* hacktrain.csv: Noisy NDVI traing data\n",
    "* hacktest.csv: 89% noisy, 11% cleamn NDVI test data"
   ]
  },
  {
   "cell_type": "markdown",
   "id": "be3df88b",
   "metadata": {
    "papermill": {
     "duration": 0.002341,
     "end_time": "2025-06-11T19:06:14.203972",
     "exception": false,
     "start_time": "2025-06-11T19:06:14.201631",
     "status": "completed"
    },
    "tags": []
   },
   "source": [
    "## **3. Importing Required Libraries & Loading Data**"
   ]
  },
  {
   "cell_type": "code",
   "execution_count": 2,
   "id": "01294b5d",
   "metadata": {
    "execution": {
     "iopub.execute_input": "2025-06-11T19:06:14.210474Z",
     "iopub.status.busy": "2025-06-11T19:06:14.210092Z",
     "iopub.status.idle": "2025-06-11T19:06:15.937265Z",
     "shell.execute_reply": "2025-06-11T19:06:15.936520Z"
    },
    "papermill": {
     "duration": 1.732206,
     "end_time": "2025-06-11T19:06:15.938750",
     "exception": false,
     "start_time": "2025-06-11T19:06:14.206544",
     "status": "completed"
    },
    "tags": []
   },
   "outputs": [],
   "source": [
    "import pandas as pd\n",
    "import numpy as np\n",
    "from sklearn.linear_model import LogisticRegression\n",
    "from sklearn.preprocessing import LabelEncoder\n",
    "from sklearn.metrics import accuracy_score\n",
    "\n",
    "train = pd.read_csv('/kaggle/input/summer-analytics-mid-hackathon/hacktrain.csv')\n",
    "test = pd.read_csv('/kaggle/input/summer-analytics-mid-hackathon/hacktest.csv')"
   ]
  },
  {
   "cell_type": "markdown",
   "id": "de89a802",
   "metadata": {
    "papermill": {
     "duration": 0.002834,
     "end_time": "2025-06-11T19:06:15.947638",
     "exception": false,
     "start_time": "2025-06-11T19:06:15.944804",
     "status": "completed"
    },
    "tags": []
   },
   "source": [
    "## **4. Preprocessing**"
   ]
  },
  {
   "cell_type": "code",
   "execution_count": 3,
   "id": "0cfe0627",
   "metadata": {
    "collapsed": true,
    "execution": {
     "iopub.execute_input": "2025-06-11T19:06:15.954445Z",
     "iopub.status.busy": "2025-06-11T19:06:15.954174Z",
     "iopub.status.idle": "2025-06-11T19:06:16.039344Z",
     "shell.execute_reply": "2025-06-11T19:06:16.038111Z"
    },
    "jupyter": {
     "outputs_hidden": true
    },
    "papermill": {
     "duration": 0.090176,
     "end_time": "2025-06-11T19:06:16.040584",
     "exception": false,
     "start_time": "2025-06-11T19:06:15.950408",
     "status": "completed"
    },
    "tags": []
   },
   "outputs": [
    {
     "name": "stdout",
     "output_type": "stream",
     "text": [
      "0\n",
      "   20150720_N   20150602_N   20150517_N   20150501_N   20150415_N  \\\n",
      "0  637.595000   658.668000 -1882.030000 -1924.360000   997.904000   \n",
      "1  635.917500   626.186500 -1753.910000 -1798.340000   956.051000   \n",
      "2  443.284133  -115.595667   388.060000 -1549.770000  1166.114000   \n",
      "3  254.925133  1502.640000  1142.215333 -1327.293333  1005.414333   \n",
      "4  422.325133  3142.530000  3241.478667  -220.576667  1345.948333   \n",
      "\n",
      "    20150330_N   20150314_N   20150226_N   20150210_N   20150125_N  ...  \\\n",
      "0 -1739.990000   630.087000  5831.120000 -1325.640000  -944.084000  ...   \n",
      "1 -1216.188000   668.856500  2080.265000 -1367.140000  -966.684500  ...   \n",
      "2 -1332.335333  1379.907667  1630.106667 -1965.473333  1528.458667  ...   \n",
      "3 -1223.398667   902.231333   -85.848667 -2466.726667  1420.640000  ...   \n",
      "4   921.558333  1386.016000  2414.721333 -1582.890000   868.385000  ...   \n",
      "\n",
      "    20140610_N   20140525_N  20140509_N  20140423_N   20140407_N   20140322_N  \\\n",
      "0  5484.905000 -1043.160000  -1942.4900  267.138000  1183.715000  1599.385000   \n",
      "1  5484.905000  -988.547000  -1283.9375  193.598500   774.286500  1038.178500   \n",
      "2  3314.643333  -536.157333     21.9400 -280.201000   617.731333  1225.247333   \n",
      "3   881.691667  -136.562667   1547.3350 -677.271333   367.209667   786.396667   \n",
      "4  -434.943333   827.892000   1662.6910 -845.596000   207.788333   967.646000   \n",
      "\n",
      "   20140218_N   20140202_N   20140117_N   20140101_N  \n",
      "0  211.328000 -2203.020000 -1180.190000   433.906000  \n",
      "1  216.103000 -2226.510000 -1270.375000   478.990500  \n",
      "2  267.140000 -2218.380000  -339.846667  -128.523000  \n",
      "3  296.137333 -2216.493333   560.620000  -548.734000  \n",
      "4  776.061333 -1505.427000   824.790000 -1175.805667  \n",
      "\n",
      "[5 rows x 27 columns]\n"
     ]
    },
    {
     "name": "stderr",
     "output_type": "stream",
     "text": [
      "/tmp/ipykernel_13/4003422690.py:12: FutureWarning: Support for axis=1 in DataFrame.rolling is deprecated and will be removed in a future version. Use obj.T.rolling(...) instead\n",
      "  train[ndvi_cols] = train[ndvi_cols].T.rolling(window=3, axis=1, min_periods=1).mean().T\n",
      "/tmp/ipykernel_13/4003422690.py:13: FutureWarning: Support for axis=1 in DataFrame.rolling is deprecated and will be removed in a future version. Use obj.T.rolling(...) instead\n",
      "  test[ndvi_cols] = test[ndvi_cols].T.rolling(window=3, axis=1, min_periods=1).mean().T\n"
     ]
    }
   ],
   "source": [
    "# Identify NDVI columns\n",
    "ndvi_cols = [col for col in train.columns if '_N' in col]\n",
    "\n",
    "# Check for Missing Values\n",
    "train[ndvi_cols].isnull().sum().sort_values(ascending=False).head()\n",
    "\n",
    "# Impute Missing Values(Median Strategy)\n",
    "train[ndvi_cols] = train[ndvi_cols].fillna(train[ndvi_cols].median())\n",
    "test[ndvi_cols] = test[ndvi_cols].fillna(test[ndvi_cols].median())\n",
    "\n",
    "# Denoising with Rolling Mean(Noise Reduction)\n",
    "train[ndvi_cols] = train[ndvi_cols].T.rolling(window=3, axis=1, min_periods=1).mean().T\n",
    "test[ndvi_cols] = test[ndvi_cols].T.rolling(window=3, axis=1, min_periods=1).mean().T\n",
    "\n",
    "print(train[ndvi_cols].isnull().sum().sum())\n",
    "print(train[ndvi_cols].head())"
   ]
  },
  {
   "cell_type": "markdown",
   "id": "6c114c04",
   "metadata": {
    "papermill": {
     "duration": 0.002606,
     "end_time": "2025-06-11T19:06:16.046467",
     "exception": false,
     "start_time": "2025-06-11T19:06:16.043861",
     "status": "completed"
    },
    "tags": []
   },
   "source": [
    "## **4. Feature Engineering**\n",
    "\n",
    "extract key features that summarize NDVI over time:"
   ]
  },
  {
   "cell_type": "code",
   "execution_count": 4,
   "id": "e2b2abd6",
   "metadata": {
    "collapsed": true,
    "execution": {
     "iopub.execute_input": "2025-06-11T19:06:16.053452Z",
     "iopub.status.busy": "2025-06-11T19:06:16.053099Z",
     "iopub.status.idle": "2025-06-11T19:06:16.090539Z",
     "shell.execute_reply": "2025-06-11T19:06:16.089465Z"
    },
    "jupyter": {
     "outputs_hidden": true
    },
    "papermill": {
     "duration": 0.042654,
     "end_time": "2025-06-11T19:06:16.091857",
     "exception": false,
     "start_time": "2025-06-11T19:06:16.049203",
     "status": "completed"
    },
    "tags": []
   },
   "outputs": [
    {
     "name": "stdout",
     "output_type": "stream",
     "text": [
      "        mean_ndvi     std_ndvi     max_ndvi     min_ndvi   range_ndvi\n",
      "0      274.827407  1917.252393  5831.120000 -2203.020000  8034.140000\n",
      "1      117.352057  1515.113766  5484.905000 -2226.510000  7711.415000\n",
      "2      254.830216  1180.614863  3314.643333 -2218.380000  5533.023333\n",
      "3      196.568957  1053.054304  1547.335000 -2466.726667  4014.061667\n",
      "4      676.212647  1221.154982  3241.478667 -1582.890000  4824.368667\n",
      "...           ...          ...          ...          ...          ...\n",
      "7995  2758.315074  1456.612311  5061.416667   497.763333  4563.653333\n",
      "7996  2015.992321   912.131398  3709.716667   492.266000  3217.450667\n",
      "7997  1441.896235   669.037605  3568.333333   632.796000  2935.537333\n",
      "7998  1805.940290   705.456220  2854.598333   532.607667  2321.990667\n",
      "7999  2633.876926  1143.201608  4691.579333   967.490333  3724.089000\n",
      "\n",
      "[8000 rows x 5 columns]         mean_ndvi     std_ndvi     max_ndvi     min_ndvi   range_ndvi\n",
      "0     3343.529778  2477.036970  7466.420000   340.949000  7125.471000\n",
      "1     3547.097241  1981.385276  7350.840000   707.554000  6643.286000\n",
      "2     3628.193049  2145.978232  7375.586667   645.968667  6729.618000\n",
      "3     3594.453358  2075.432447  7259.820000   911.181333  6348.638667\n",
      "4     3833.765358  2198.877085  7570.150000   776.083333  6794.066667\n",
      "...           ...          ...          ...          ...          ...\n",
      "2840 -1992.249488  1547.072981   644.966667 -5258.886667  5903.853333\n",
      "2841 -2203.978191  1522.652034   109.414333 -5181.300000  5290.714333\n",
      "2842 -1985.387194  1584.822738   190.847733 -4751.153333  4942.001067\n",
      "2843 -1709.636705  1557.473852   527.250000 -4980.940000  5508.190000\n",
      "2844 -1414.726907  1595.531551   679.999467 -5095.713333  5775.712800\n",
      "\n",
      "[2845 rows x 5 columns]\n"
     ]
    }
   ],
   "source": [
    "def extract_features(df):\n",
    "    f = pd.DataFrame()\n",
    "    f['mean_ndvi'] = df[ndvi_cols].mean(axis=1)\n",
    "    f['std_ndvi'] = df[ndvi_cols].std(axis=1)\n",
    "    f['max_ndvi'] = df[ndvi_cols].max(axis=1)\n",
    "    f['min_ndvi'] = df[ndvi_cols].min(axis=1)\n",
    "    f['range_ndvi'] = f['max_ndvi'] - f['min_ndvi']\n",
    "    return f\n",
    "\n",
    "X_train = extract_features(train)\n",
    "X_test = extract_features(test)\n",
    "\n",
    "print(X_train,X_test)"
   ]
  },
  {
   "cell_type": "markdown",
   "id": "c0f2e041",
   "metadata": {
    "papermill": {
     "duration": 0.002732,
     "end_time": "2025-06-11T19:06:16.097716",
     "exception": false,
     "start_time": "2025-06-11T19:06:16.094984",
     "status": "completed"
    },
    "tags": []
   },
   "source": [
    "## **5. Target Labels Encoding**"
   ]
  },
  {
   "cell_type": "code",
   "execution_count": 5,
   "id": "b319d86c",
   "metadata": {
    "execution": {
     "iopub.execute_input": "2025-06-11T19:06:16.104500Z",
     "iopub.status.busy": "2025-06-11T19:06:16.104233Z",
     "iopub.status.idle": "2025-06-11T19:06:16.110537Z",
     "shell.execute_reply": "2025-06-11T19:06:16.109711Z"
    },
    "papermill": {
     "duration": 0.011075,
     "end_time": "2025-06-11T19:06:16.111658",
     "exception": false,
     "start_time": "2025-06-11T19:06:16.100583",
     "status": "completed"
    },
    "tags": []
   },
   "outputs": [],
   "source": [
    "le = LabelEncoder()\n",
    "train['class_encoded'] = le.fit_transform(train['class'])"
   ]
  },
  {
   "cell_type": "markdown",
   "id": "466681e2",
   "metadata": {
    "papermill": {
     "duration": 0.002636,
     "end_time": "2025-06-11T19:06:16.117511",
     "exception": false,
     "start_time": "2025-06-11T19:06:16.114875",
     "status": "completed"
    },
    "tags": []
   },
   "source": [
    "## **6. Train Logistic Regression Model**"
   ]
  },
  {
   "cell_type": "code",
   "execution_count": 6,
   "id": "990abd13",
   "metadata": {
    "collapsed": true,
    "execution": {
     "iopub.execute_input": "2025-06-11T19:06:16.124389Z",
     "iopub.status.busy": "2025-06-11T19:06:16.124110Z",
     "iopub.status.idle": "2025-06-11T19:06:19.798083Z",
     "shell.execute_reply": "2025-06-11T19:06:19.797572Z"
    },
    "jupyter": {
     "outputs_hidden": true
    },
    "papermill": {
     "duration": 3.67894,
     "end_time": "2025-06-11T19:06:19.799236",
     "exception": false,
     "start_time": "2025-06-11T19:06:16.120296",
     "status": "completed"
    },
    "tags": []
   },
   "outputs": [
    {
     "data": {
      "text/html": [
       "<style>#sk-container-id-1 {color: black;background-color: white;}#sk-container-id-1 pre{padding: 0;}#sk-container-id-1 div.sk-toggleable {background-color: white;}#sk-container-id-1 label.sk-toggleable__label {cursor: pointer;display: block;width: 100%;margin-bottom: 0;padding: 0.3em;box-sizing: border-box;text-align: center;}#sk-container-id-1 label.sk-toggleable__label-arrow:before {content: \"▸\";float: left;margin-right: 0.25em;color: #696969;}#sk-container-id-1 label.sk-toggleable__label-arrow:hover:before {color: black;}#sk-container-id-1 div.sk-estimator:hover label.sk-toggleable__label-arrow:before {color: black;}#sk-container-id-1 div.sk-toggleable__content {max-height: 0;max-width: 0;overflow: hidden;text-align: left;background-color: #f0f8ff;}#sk-container-id-1 div.sk-toggleable__content pre {margin: 0.2em;color: black;border-radius: 0.25em;background-color: #f0f8ff;}#sk-container-id-1 input.sk-toggleable__control:checked~div.sk-toggleable__content {max-height: 200px;max-width: 100%;overflow: auto;}#sk-container-id-1 input.sk-toggleable__control:checked~label.sk-toggleable__label-arrow:before {content: \"▾\";}#sk-container-id-1 div.sk-estimator input.sk-toggleable__control:checked~label.sk-toggleable__label {background-color: #d4ebff;}#sk-container-id-1 div.sk-label input.sk-toggleable__control:checked~label.sk-toggleable__label {background-color: #d4ebff;}#sk-container-id-1 input.sk-hidden--visually {border: 0;clip: rect(1px 1px 1px 1px);clip: rect(1px, 1px, 1px, 1px);height: 1px;margin: -1px;overflow: hidden;padding: 0;position: absolute;width: 1px;}#sk-container-id-1 div.sk-estimator {font-family: monospace;background-color: #f0f8ff;border: 1px dotted black;border-radius: 0.25em;box-sizing: border-box;margin-bottom: 0.5em;}#sk-container-id-1 div.sk-estimator:hover {background-color: #d4ebff;}#sk-container-id-1 div.sk-parallel-item::after {content: \"\";width: 100%;border-bottom: 1px solid gray;flex-grow: 1;}#sk-container-id-1 div.sk-label:hover label.sk-toggleable__label {background-color: #d4ebff;}#sk-container-id-1 div.sk-serial::before {content: \"\";position: absolute;border-left: 1px solid gray;box-sizing: border-box;top: 0;bottom: 0;left: 50%;z-index: 0;}#sk-container-id-1 div.sk-serial {display: flex;flex-direction: column;align-items: center;background-color: white;padding-right: 0.2em;padding-left: 0.2em;position: relative;}#sk-container-id-1 div.sk-item {position: relative;z-index: 1;}#sk-container-id-1 div.sk-parallel {display: flex;align-items: stretch;justify-content: center;background-color: white;position: relative;}#sk-container-id-1 div.sk-item::before, #sk-container-id-1 div.sk-parallel-item::before {content: \"\";position: absolute;border-left: 1px solid gray;box-sizing: border-box;top: 0;bottom: 0;left: 50%;z-index: -1;}#sk-container-id-1 div.sk-parallel-item {display: flex;flex-direction: column;z-index: 1;position: relative;background-color: white;}#sk-container-id-1 div.sk-parallel-item:first-child::after {align-self: flex-end;width: 50%;}#sk-container-id-1 div.sk-parallel-item:last-child::after {align-self: flex-start;width: 50%;}#sk-container-id-1 div.sk-parallel-item:only-child::after {width: 0;}#sk-container-id-1 div.sk-dashed-wrapped {border: 1px dashed gray;margin: 0 0.4em 0.5em 0.4em;box-sizing: border-box;padding-bottom: 0.4em;background-color: white;}#sk-container-id-1 div.sk-label label {font-family: monospace;font-weight: bold;display: inline-block;line-height: 1.2em;}#sk-container-id-1 div.sk-label-container {text-align: center;}#sk-container-id-1 div.sk-container {/* jupyter's `normalize.less` sets `[hidden] { display: none; }` but bootstrap.min.css set `[hidden] { display: none !important; }` so we also need the `!important` here to be able to override the default hidden behavior on the sphinx rendered scikit-learn.org. See: https://github.com/scikit-learn/scikit-learn/issues/21755 */display: inline-block !important;position: relative;}#sk-container-id-1 div.sk-text-repr-fallback {display: none;}</style><div id=\"sk-container-id-1\" class=\"sk-top-container\"><div class=\"sk-text-repr-fallback\"><pre>LogisticRegression(class_weight=&#x27;balanced&#x27;, max_iter=5000,\n",
       "                   multi_class=&#x27;multinomial&#x27;)</pre><b>In a Jupyter environment, please rerun this cell to show the HTML representation or trust the notebook. <br />On GitHub, the HTML representation is unable to render, please try loading this page with nbviewer.org.</b></div><div class=\"sk-container\" hidden><div class=\"sk-item\"><div class=\"sk-estimator sk-toggleable\"><input class=\"sk-toggleable__control sk-hidden--visually\" id=\"sk-estimator-id-1\" type=\"checkbox\" checked><label for=\"sk-estimator-id-1\" class=\"sk-toggleable__label sk-toggleable__label-arrow\">LogisticRegression</label><div class=\"sk-toggleable__content\"><pre>LogisticRegression(class_weight=&#x27;balanced&#x27;, max_iter=5000,\n",
       "                   multi_class=&#x27;multinomial&#x27;)</pre></div></div></div></div></div>"
      ],
      "text/plain": [
       "LogisticRegression(class_weight='balanced', max_iter=5000,\n",
       "                   multi_class='multinomial')"
      ]
     },
     "execution_count": 6,
     "metadata": {},
     "output_type": "execute_result"
    }
   ],
   "source": [
    "X_train = train[ndvi_cols]\n",
    "Y_train = train['class_encoded']\n",
    "\n",
    "model = LogisticRegression(max_iter=5000, multi_class='multinomial', class_weight='balanced')\n",
    "model.fit(X_train, Y_train)"
   ]
  },
  {
   "cell_type": "markdown",
   "id": "fb1543da",
   "metadata": {
    "papermill": {
     "duration": 0.003712,
     "end_time": "2025-06-11T19:06:19.807130",
     "exception": false,
     "start_time": "2025-06-11T19:06:19.803418",
     "status": "completed"
    },
    "tags": []
   },
   "source": [
    "## **7. Predict on Test Set**"
   ]
  },
  {
   "cell_type": "code",
   "execution_count": 7,
   "id": "e6235607",
   "metadata": {
    "execution": {
     "iopub.execute_input": "2025-06-11T19:06:19.815698Z",
     "iopub.status.busy": "2025-06-11T19:06:19.815435Z",
     "iopub.status.idle": "2025-06-11T19:06:19.827137Z",
     "shell.execute_reply": "2025-06-11T19:06:19.826588Z"
    },
    "papermill": {
     "duration": 0.017391,
     "end_time": "2025-06-11T19:06:19.828331",
     "exception": false,
     "start_time": "2025-06-11T19:06:19.810940",
     "status": "completed"
    },
    "tags": []
   },
   "outputs": [],
   "source": [
    "X_test = test[ndvi_cols]\n",
    "Y_pred_encoded = model.predict(X_test)\n",
    "Y_pred = le.inverse_transform(Y_pred_encoded)"
   ]
  },
  {
   "cell_type": "markdown",
   "id": "d09b1f50",
   "metadata": {
    "papermill": {
     "duration": 0.00375,
     "end_time": "2025-06-11T19:06:19.836974",
     "exception": false,
     "start_time": "2025-06-11T19:06:19.833224",
     "status": "completed"
    },
    "tags": []
   },
   "source": [
    "## **8. Create Submission File**"
   ]
  },
  {
   "cell_type": "code",
   "execution_count": 8,
   "id": "cd5f2982",
   "metadata": {
    "execution": {
     "iopub.execute_input": "2025-06-11T19:06:19.845965Z",
     "iopub.status.busy": "2025-06-11T19:06:19.845401Z",
     "iopub.status.idle": "2025-06-11T19:06:19.863499Z",
     "shell.execute_reply": "2025-06-11T19:06:19.862922Z"
    },
    "papermill": {
     "duration": 0.024182,
     "end_time": "2025-06-11T19:06:19.864995",
     "exception": false,
     "start_time": "2025-06-11T19:06:19.840813",
     "status": "completed"
    },
    "tags": []
   },
   "outputs": [
    {
     "name": "stdout",
     "output_type": "stream",
     "text": [
      "   ID    class\n",
      "0   1  orchard\n",
      "1   2  orchard\n",
      "2   3  orchard\n",
      "3   4  orchard\n",
      "4   5  orchard\n",
      "(array(['farm', 'forest', 'grass', 'impervious', 'orchard', 'water'],\n",
      "      dtype=object), array([ 697, 1148,  313,  385,  124,  178]))\n"
     ]
    }
   ],
   "source": [
    "submission = pd.DataFrame({\n",
    "    'ID': test['ID'],\n",
    "    'class': Y_pred\n",
    "})\n",
    "submission.to_csv('submission.csv', index=False)\n",
    "\n",
    "print(submission.head())\n",
    "\n",
    "# Checking whether the model is predicting all six classes\n",
    "print(np.unique(Y_pred, return_counts=True))"
   ]
  },
  {
   "cell_type": "code",
   "execution_count": 9,
   "id": "03280233",
   "metadata": {
    "execution": {
     "iopub.execute_input": "2025-06-11T19:06:19.874957Z",
     "iopub.status.busy": "2025-06-11T19:06:19.874671Z",
     "iopub.status.idle": "2025-06-11T19:06:20.061772Z",
     "shell.execute_reply": "2025-06-11T19:06:20.061035Z"
    },
    "papermill": {
     "duration": 0.193544,
     "end_time": "2025-06-11T19:06:20.063055",
     "exception": false,
     "start_time": "2025-06-11T19:06:19.869511",
     "status": "completed"
    },
    "tags": []
   },
   "outputs": [
    {
     "data": {
      "image/png": "[encoded data removed]",
      "text/plain": [
       "<Figure size 640x480 with 1 Axes>"
      ]
     },
     "metadata": {},
     "output_type": "display_data"
    }
   ],
   "source": [
    "# Checking for the Distribution clearly\n",
    "import matplotlib.pyplot as plt\n",
    "\n",
    "labels, counts = np.unique(Y_pred, return_counts=True)\n",
    "plt.bar(labels, counts)\n",
    "plt.title(\"Prediction Distribution\")\n",
    "plt.ylabel(\"Count\")\n",
    "plt.xticks(rotation=45)\n",
    "plt.show()"
   ]
  },
  {
   "cell_type": "markdown",
   "id": "1af92cda",
   "metadata": {
    "papermill": {
     "duration": 0.003237,
     "end_time": "2025-06-11T19:06:20.070222",
     "exception": false,
     "start_time": "2025-06-11T19:06:20.066985",
     "status": "completed"
    },
    "tags": []
   },
   "source": [
    "## **9. Visualisation**"
   ]
  },
  {
   "cell_type": "code",
   "execution_count": 10,
   "id": "61b40211",
   "metadata": {
    "execution": {
     "iopub.execute_input": "2025-06-11T19:06:20.078347Z",
     "iopub.status.busy": "2025-06-11T19:06:20.078065Z",
     "iopub.status.idle": "2025-06-11T19:06:20.403457Z",
     "shell.execute_reply": "2025-06-11T19:06:20.402776Z"
    },
    "papermill": {
     "duration": 0.331297,
     "end_time": "2025-06-11T19:06:20.404756",
     "exception": false,
     "start_time": "2025-06-11T19:06:20.073459",
     "status": "completed"
    },
    "tags": []
   },
   "outputs": [
    {
     "data": {
      "image/png": "[encoded data removed]",
      "text/plain": [
       "<Figure size 1000x500 with 1 Axes>"
      ]
     },
     "metadata": {},
     "output_type": "display_data"
    }
   ],
   "source": [
    "import matplotlib.pyplot as plt\n",
    "\n",
    "plt.figure(figsize=(10,5))\n",
    "plt.plot(train.loc[0, ndvi_cols], label='Denoised NDVI')\n",
    "plt.title('NDVI Time Series (Sample ID 0)')\n",
    "plt.xlabel('Date')\n",
    "plt.ylabel('NDVI')\n",
    "plt.xticks(rotation=90)\n",
    "plt.legend()\n",
    "plt.tight_layout()\n",
    "plt.show()"
   ]
  },
  {
   "cell_type": "markdown",
   "id": "3e7dfd8b",
   "metadata": {
    "papermill": {
     "duration": 0.003939,
     "end_time": "2025-06-11T19:06:20.413351",
     "exception": false,
     "start_time": "2025-06-11T19:06:20.409412",
     "status": "completed"
    },
    "tags": []
   },
   "source": [
    "## **10. Conclusion**\n",
    "* Trained multinomial logistic regression on smoothed and imputed NDVI features.\n",
    "* Used rolling average to reduce noise from cloud distortion.\n",
    "* Created statistical summaries of NDVI as features (mean, std, range).\n",
    "* Ready for leaderboard evaluation with robustness in mind."
   ]
  }
 ],
 "metadata": {
  "kaggle": {
   "accelerator": "none",
   "dataSources": [
    {
     "databundleVersionId": 12585144,
     "sourceId": 104491,
     "sourceType": "competition"
    },
    {
     "datasetId": 7640712,
     "sourceId": 12133077,
     "sourceType": "datasetVersion"
    }
   ],
   "dockerImageVersionId": 31040,
   "isGpuEnabled": false,
   "isInternetEnabled": false,
   "language": "python",
   "sourceType": "notebook"
  },
  "kernelspec": {
   "display_name": "Python 3",
   "language": "python",
   "name": "python3"
  },
  "language_info": {
   "codemirror_mode": {
    "name": "ipython",
    "version": 3
   },
   "file_extension": ".py",
   "mimetype": "text/x-python",
   "name": "python",
   "nbconvert_exporter": "python",
   "pygments_lexer": "ipython3",
   "version": "3.11.11"
  },
  "papermill": {
   "default_parameters": {},
   "duration": 12.678826,
   "end_time": "2025-06-11T19:06:21.136025",
   "environment_variables": {},
   "exception": null,
   "input_path": "__notebook__.ipynb",
   "output_path": "__notebook__.ipynb",
   "parameters": {},
   "start_time": "2025-06-11T19:06:08.457199",
   "version": "2.6.0"
  }
 },
 "nbformat": 4,
 "nbformat_minor": 5
}
