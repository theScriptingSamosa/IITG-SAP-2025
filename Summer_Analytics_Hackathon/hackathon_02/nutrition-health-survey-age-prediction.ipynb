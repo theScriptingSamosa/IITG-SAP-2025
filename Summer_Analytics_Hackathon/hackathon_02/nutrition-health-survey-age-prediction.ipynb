{
 "cells": [
  {
   "cell_type": "code",
   "execution_count": 1,
   "id": "bec5f280",
   "metadata": {
    "_cell_guid": "b1076dfc-b9ad-4769-8c92-a6c4dae69d19",
    "_uuid": "8f2839f25d086af736a60e9eeb907d3b93b6e0e5",
    "execution": {
     "iopub.execute_input": "2025-06-24T10:26:04.764930Z",
     "iopub.status.busy": "2025-06-24T10:26:04.764590Z",
     "iopub.status.idle": "2025-06-24T10:26:06.794941Z",
     "shell.execute_reply": "2025-06-24T10:26:06.793763Z"
    },
    "jupyter": {
     "source_hidden": true
    },
    "papermill": {
     "duration": 2.036659,
     "end_time": "2025-06-24T10:26:06.796507",
     "exception": false,
     "start_time": "2025-06-24T10:26:04.759848",
     "status": "completed"
    },
    "tags": []
   },
   "outputs": [
    {
     "name": "stdout",
     "output_type": "stream",
     "text": [
      "/kaggle/input/nhanes-senior-classification/Train_Data.csv\n",
      "/kaggle/input/nhanes-senior-classification/Test_Data.csv\n"
     ]
    }
   ],
   "source": [
    "# This Python 3 environment comes with many helpful analytics libraries installed\n",
    "# It is defined by the kaggle/python Docker image: https://github.com/kaggle/docker-python\n",
    "# For example, here's several helpful packages to load\n",
    "\n",
    "import numpy as np # linear algebra\n",
    "import pandas as pd # data processing, CSV file I/O (e.g. pd.read_csv)\n",
    "\n",
    "# Input data files are available in the read-only \"../input/\" directory\n",
    "# For example, running this (by clicking run or pressing Shift+Enter) will list all files under the input directory\n",
    "\n",
    "import os\n",
    "for dirname, _, filenames in os.walk('/kaggle/input'):\n",
    "    for filename in filenames:\n",
    "        print(os.path.join(dirname, filename))\n",
    "\n",
    "# You can write up to 20GB to the current directory (/kaggle/working/) that gets preserved as output when you create a version using \"Save & Run All\" \n",
    "# You can also write temporary files to /kaggle/temp/, but they won't be saved outside of the current session"
   ]
  },
  {
   "cell_type": "markdown",
   "id": "d247ff7b",
   "metadata": {
    "papermill": {
     "duration": 0.002801,
     "end_time": "2025-06-24T10:26:06.802851",
     "exception": false,
     "start_time": "2025-06-24T10:26:06.800050",
     "status": "completed"
    },
    "tags": []
   },
   "source": [
    "# **Nutrition Health Survey- Age Prediction**\n",
    "## **1. Objective**\n",
    "This notebook tackles the binary classification task of predicting whether a person is a **Senior (65+ years)** or not, using health and nutrition data from a curated subset of the NHANES survey.\n",
    "\n",
    "Dataset Source: CDC's National Health and Nutrition Examination Survey (NHANES)  \n",
    "\n",
    "Task: Predict the `age_group` as:\n",
    "- `0` → Adult (Age < 65)\n",
    "- `1` → Senior (Age ≥ 65)\n",
    "\n",
    "## **2. Load Data & Libraries**"
   ]
  },
  {
   "cell_type": "code",
   "execution_count": 2,
   "id": "04ccdc65",
   "metadata": {
    "execution": {
     "iopub.execute_input": "2025-06-24T10:26:06.810328Z",
     "iopub.status.busy": "2025-06-24T10:26:06.809818Z",
     "iopub.status.idle": "2025-06-24T10:26:09.648604Z",
     "shell.execute_reply": "2025-06-24T10:26:09.647459Z"
    },
    "papermill": {
     "duration": 2.844491,
     "end_time": "2025-06-24T10:26:09.650387",
     "exception": false,
     "start_time": "2025-06-24T10:26:06.805896",
     "status": "completed"
    },
    "tags": []
   },
   "outputs": [],
   "source": [
    "import pandas as pd\n",
    "import numpy as np\n",
    "import seaborn as sns\n",
    "import matplotlib.pyplot as plt\n",
    "\n",
    "from sklearn.model_selection import train_test_split, cross_val_score\n",
    "from sklearn.impute import SimpleImputer\n",
    "from sklearn.preprocessing import StandardScaler\n",
    "from sklearn.preprocessing import LabelEncoder\n",
    "from sklearn.ensemble import RandomForestClassifier\n",
    "from sklearn.linear_model import LogisticRegression\n",
    "from sklearn.metrics import classification_report, confusion_matrix\n",
    "\n",
    "# Load files\n",
    "train = pd.read_csv('/kaggle/input/nhanes-senior-classification/Train_Data.csv')   \n",
    "test = pd.read_csv('/kaggle/input/nhanes-senior-classification/Test_Data.csv')"
   ]
  },
  {
   "cell_type": "markdown",
   "id": "4ef556d6",
   "metadata": {
    "papermill": {
     "duration": 0.002784,
     "end_time": "2025-06-24T10:26:09.656146",
     "exception": false,
     "start_time": "2025-06-24T10:26:09.653362",
     "status": "completed"
    },
    "tags": []
   },
   "source": [
    "## **3. Exploratory Data Analysis**"
   ]
  },
  {
   "cell_type": "code",
   "execution_count": 3,
   "id": "5d704321",
   "metadata": {
    "execution": {
     "iopub.execute_input": "2025-06-24T10:26:09.663271Z",
     "iopub.status.busy": "2025-06-24T10:26:09.662937Z",
     "iopub.status.idle": "2025-06-24T10:26:09.994810Z",
     "shell.execute_reply": "2025-06-24T10:26:09.993849Z"
    },
    "papermill": {
     "duration": 0.337348,
     "end_time": "2025-06-24T10:26:09.996484",
     "exception": false,
     "start_time": "2025-06-24T10:26:09.659136",
     "status": "completed"
    },
    "tags": []
   },
   "outputs": [
    {
     "name": "stdout",
     "output_type": "stream",
     "text": [
      "age_group    1.000000\n",
      "LBXGLT       0.249944\n",
      "LBXGLU       0.128616\n",
      "PAQ605       0.092762\n",
      "DIQ010       0.023626\n",
      "SEQN         0.022023\n",
      "RIAGENDR     0.000270\n",
      "BMXBMI      -0.011797\n",
      "LBXIN       -0.065271\n",
      "Name: age_group, dtype: float64\n"
     ]
    },
    {
     "data": {
      "text/plain": [
       "<Axes: title={'center': 'Target Class Distribution'}, xlabel='age_group', ylabel='BMXBMI'>"
      ]
     },
     "execution_count": 3,
     "metadata": {},
     "output_type": "execute_result"
    },
    {
     "data": {
      "image/png": "[encoded data removed]",
      "text/plain": [
       "<Figure size 640x480 with 1 Axes>"
      ]
     },
     "metadata": {},
     "output_type": "display_data"
    }
   ],
   "source": [
    "# Target distribution\n",
    "sns.countplot(data=train, x='age_group')\n",
    "plt.title('Target Class Distribution')\n",
    "\n",
    "# Convert target to 0/1\n",
    "train['age_group'] = train['age_group'].map({'Adult': 0, 'Senior': 1})\n",
    "\n",
    "# Check missing values\n",
    "train.isna().sum()\n",
    "\n",
    "# Check correlation with target\n",
    "correlations = train.corr(numeric_only=True)['age_group'].sort_values(ascending=False)\n",
    "print(correlations)\n",
    "\n",
    "# Optional: Visuals like histograms, boxplots\n",
    "sns.boxplot(data=train, x='age_group', y='BMXBMI')"
   ]
  },
  {
   "cell_type": "markdown",
   "id": "8844d315",
   "metadata": {
    "papermill": {
     "duration": 0.003311,
     "end_time": "2025-06-24T10:26:10.003737",
     "exception": false,
     "start_time": "2025-06-24T10:26:10.000426",
     "status": "completed"
    },
    "tags": []
   },
   "source": [
    "## **4. Preprocessing**"
   ]
  },
  {
   "cell_type": "code",
   "execution_count": 4,
   "id": "6edcc9f2",
   "metadata": {
    "execution": {
     "iopub.execute_input": "2025-06-24T10:26:10.012361Z",
     "iopub.status.busy": "2025-06-24T10:26:10.012010Z",
     "iopub.status.idle": "2025-06-24T10:26:10.048280Z",
     "shell.execute_reply": "2025-06-24T10:26:10.046867Z"
    },
    "papermill": {
     "duration": 0.042909,
     "end_time": "2025-06-24T10:26:10.050189",
     "exception": false,
     "start_time": "2025-06-24T10:26:10.007280",
     "status": "completed"
    },
    "tags": []
   },
   "outputs": [
    {
     "name": "stdout",
     "output_type": "stream",
     "text": [
      "Index(['SEQN', 'RIAGENDR', 'PAQ605', 'BMXBMI', 'LBXGLU', 'DIQ010', 'LBXGLT',\n",
      "       'LBXIN', 'age_group'],\n",
      "      dtype='object')\n",
      "Index(['SEQN', 'RIAGENDR', 'PAQ605', 'BMXBMI', 'LBXGLU', 'DIQ010', 'LBXGLT',\n",
      "       'LBXIN'],\n",
      "      dtype='object')\n"
     ]
    }
   ],
   "source": [
    "print(train.columns)\n",
    "print(test.columns)\n",
    "\n",
    "# Imputation\n",
    "imputer = SimpleImputer(strategy='mean')\n",
    "X_train = imputer.fit_transform(train.drop('age_group', axis=1))\n",
    "y_train = train['age_group']\n",
    "X_test = imputer.transform(test)\n",
    "\n",
    "# (Optional) Scaling\n",
    "scaler = StandardScaler()\n",
    "X_train = scaler.fit_transform(X_train)\n",
    "X_test = scaler.transform(X_test)"
   ]
  },
  {
   "cell_type": "markdown",
   "id": "b8de7352",
   "metadata": {
    "papermill": {
     "duration": 0.003355,
     "end_time": "2025-06-24T10:26:10.057274",
     "exception": false,
     "start_time": "2025-06-24T10:26:10.053919",
     "status": "completed"
    },
    "tags": []
   },
   "source": [
    "## **5. Modelling and Evaluation**"
   ]
  },
  {
   "cell_type": "code",
   "execution_count": 5,
   "id": "7efdcc0d",
   "metadata": {
    "execution": {
     "iopub.execute_input": "2025-06-24T10:26:10.067105Z",
     "iopub.status.busy": "2025-06-24T10:26:10.066585Z",
     "iopub.status.idle": "2025-06-24T10:26:10.772521Z",
     "shell.execute_reply": "2025-06-24T10:26:10.771177Z"
    },
    "papermill": {
     "duration": 0.713226,
     "end_time": "2025-06-24T10:26:10.774224",
     "exception": false,
     "start_time": "2025-06-24T10:26:10.060998",
     "status": "completed"
    },
    "tags": []
   },
   "outputs": [
    {
     "name": "stdout",
     "output_type": "stream",
     "text": [
      "Logistic Regression Accuracy: 0.8336724313326551\n",
      "[[1638    0    0]\n",
      " [   0  314    0]\n",
      " [   0    0   14]]\n",
      "              precision    recall  f1-score   support\n",
      "\n",
      "           0       1.00      1.00      1.00      1638\n",
      "           1       1.00      1.00      1.00       314\n",
      "           2       1.00      1.00      1.00        14\n",
      "\n",
      "    accuracy                           1.00      1966\n",
      "   macro avg       1.00      1.00      1.00      1966\n",
      "weighted avg       1.00      1.00      1.00      1966\n",
      "\n"
     ]
    }
   ],
   "source": [
    "# Encode target labels\n",
    "le = LabelEncoder()\n",
    "y_train = le.fit_transform(y_train)\n",
    "\n",
    "# Simple baseline: Logistic Regression\n",
    "lr = LogisticRegression(max_iter = 1000)\n",
    "lr.fit(X_train, y_train)\n",
    "print(\"Logistic Regression Accuracy:\", lr.score(X_train, y_train))\n",
    "\n",
    "# Random Forest (usually performs well on tabular data)\n",
    "rf = RandomForestClassifier(random_state=42)\n",
    "rf.fit(X_train, y_train)\n",
    "\n",
    "# Evaluation on training set (or create a hold-out validation split)\n",
    "preds_train = rf.predict(X_train)\n",
    "print(confusion_matrix(y_train, preds_train))\n",
    "print(classification_report(y_train, preds_train))"
   ]
  },
  {
   "cell_type": "markdown",
   "id": "b2886c3b",
   "metadata": {
    "papermill": {
     "duration": 0.003296,
     "end_time": "2025-06-24T10:26:10.781230",
     "exception": false,
     "start_time": "2025-06-24T10:26:10.777934",
     "status": "completed"
    },
    "tags": []
   },
   "source": [
    "## **6. Predict on Test Set**"
   ]
  },
  {
   "cell_type": "code",
   "execution_count": 6,
   "id": "3a907f67",
   "metadata": {
    "execution": {
     "iopub.execute_input": "2025-06-24T10:26:10.790448Z",
     "iopub.status.busy": "2025-06-24T10:26:10.790029Z",
     "iopub.status.idle": "2025-06-24T10:26:10.832589Z",
     "shell.execute_reply": "2025-06-24T10:26:10.831297Z"
    },
    "papermill": {
     "duration": 0.049615,
     "end_time": "2025-06-24T10:26:10.834570",
     "exception": false,
     "start_time": "2025-06-24T10:26:10.784955",
     "status": "completed"
    },
    "tags": []
   },
   "outputs": [
    {
     "data": {
      "text/html": [
       "<div>\n",
       "<style scoped>\n",
       "    .dataframe tbody tr th:only-of-type {\n",
       "        vertical-align: middle;\n",
       "    }\n",
       "\n",
       "    .dataframe tbody tr th {\n",
       "        vertical-align: top;\n",
       "    }\n",
       "\n",
       "    .dataframe thead th {\n",
       "        text-align: right;\n",
       "    }\n",
       "</style>\n",
       "<table border=\"1\" class=\"dataframe\">\n",
       "  <thead>\n",
       "    <tr style=\"text-align: right;\">\n",
       "      <th></th>\n",
       "      <th>age_group</th>\n",
       "    </tr>\n",
       "  </thead>\n",
       "  <tbody>\n",
       "    <tr>\n",
       "      <th>0</th>\n",
       "      <td>0</td>\n",
       "    </tr>\n",
       "    <tr>\n",
       "      <th>1</th>\n",
       "      <td>0</td>\n",
       "    </tr>\n",
       "    <tr>\n",
       "      <th>2</th>\n",
       "      <td>0</td>\n",
       "    </tr>\n",
       "    <tr>\n",
       "      <th>3</th>\n",
       "      <td>0</td>\n",
       "    </tr>\n",
       "    <tr>\n",
       "      <th>4</th>\n",
       "      <td>0</td>\n",
       "    </tr>\n",
       "  </tbody>\n",
       "</table>\n",
       "</div>"
      ],
      "text/plain": [
       "   age_group\n",
       "0          0\n",
       "1          0\n",
       "2          0\n",
       "3          0\n",
       "4          0"
      ]
     },
     "execution_count": 6,
     "metadata": {},
     "output_type": "execute_result"
    }
   ],
   "source": [
    "test_preds = rf.predict(X_test)\n",
    "submission = pd.DataFrame({'age_group': test_preds})\n",
    "submission.to_csv('submission.csv', index=False)\n",
    "submission.head()"
   ]
  },
  {
   "cell_type": "code",
   "execution_count": 7,
   "id": "0cf3dbea",
   "metadata": {
    "execution": {
     "iopub.execute_input": "2025-06-24T10:26:10.849102Z",
     "iopub.status.busy": "2025-06-24T10:26:10.848356Z",
     "iopub.status.idle": "2025-06-24T10:26:11.050855Z",
     "shell.execute_reply": "2025-06-24T10:26:11.049844Z"
    },
    "papermill": {
     "duration": 0.211516,
     "end_time": "2025-06-24T10:26:11.052591",
     "exception": false,
     "start_time": "2025-06-24T10:26:10.841075",
     "status": "completed"
    },
    "tags": []
   },
   "outputs": [
    {
     "data": {
      "image/png": "[encoded data removed]",
      "text/plain": [
       "<Figure size 640x480 with 1 Axes>"
      ]
     },
     "metadata": {},
     "output_type": "display_data"
    }
   ],
   "source": [
    "# Checking for the Distribution clearly\n",
    "import matplotlib.pyplot as plt\n",
    "\n",
    "labels, counts = np.unique(y_train, return_counts=True)\n",
    "plt.bar(labels, counts, color='orange')\n",
    "plt.title(\"Actual Distribution of Age Groups\")\n",
    "plt.ylabel(\"Count\")\n",
    "plt.xticks(rotation=45)\n",
    "plt.show()"
   ]
  },
  {
   "cell_type": "markdown",
   "id": "c5938016",
   "metadata": {
    "papermill": {
     "duration": 0.004803,
     "end_time": "2025-06-24T10:26:11.061697",
     "exception": false,
     "start_time": "2025-06-24T10:26:11.056894",
     "status": "completed"
    },
    "tags": []
   },
   "source": [
    "## **7. Conclusion**\n",
    "- A Random Forest model was trained to classify individuals as \"Adult\" or \"Senior\" using health indicators.  \n",
    "- Future improvements could include hyperparameter tuning, more advanced feature engineering, and ensembling multiple models."
   ]
  }
 ],
 "metadata": {
  "kaggle": {
   "accelerator": "none",
   "dataSources": [
    {
     "datasetId": 7726023,
     "sourceId": 12260620,
     "sourceType": "datasetVersion"
    }
   ],
   "dockerImageVersionId": 31040,
   "isGpuEnabled": false,
   "isInternetEnabled": true,
   "language": "python",
   "sourceType": "notebook"
  },
  "kernelspec": {
   "display_name": "Python 3",
   "language": "python",
   "name": "python3"
  },
  "language_info": {
   "codemirror_mode": {
    "name": "ipython",
    "version": 3
   },
   "file_extension": ".py",
   "mimetype": "text/x-python",
   "name": "python",
   "nbconvert_exporter": "python",
   "pygments_lexer": "ipython3",
   "version": "3.11.11"
  },
  "papermill": {
   "default_parameters": {},
   "duration": 12.167229,
   "end_time": "2025-06-24T10:26:11.788146",
   "environment_variables": {},
   "exception": null,
   "input_path": "__notebook__.ipynb",
   "output_path": "__notebook__.ipynb",
   "parameters": {},
   "start_time": "2025-06-24T10:25:59.620917",
   "version": "2.6.0"
  }
 },
 "nbformat": 4,
 "nbformat_minor": 5
}
